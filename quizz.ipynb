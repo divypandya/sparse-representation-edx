{
 "cells": [
  {
   "cell_type": "code",
   "execution_count": 18,
   "metadata": {},
   "outputs": [
    {
     "name": "stdout",
     "output_type": "stream",
     "text": [
      "[[ 0.1817  0.5394 -0.1197  0.6404]\n",
      " [ 0.6198  0.1994  0.0946 -0.3121]\n",
      " [-0.7634 -0.8181  0.9883  0.7018]]\n",
      "[[0.]\n",
      " [0.]\n",
      " [0.]\n",
      " [0.]]\n",
      "(3, 1)\n"
     ]
    }
   ],
   "source": [
    "import numpy as np\n",
    "\n",
    "A = np.array([[0.1817, 0.5394, -0.1197, 0.6404],\n",
    "              [0.6198, 0.1994, 0.0946, -0.3121],\n",
    "              [-0.7634, -0.8181, 0.9883, 0.7018]])\n",
    "\n",
    "b = np.array([[1.1862, -0.1158, -0.1093]]).T\n",
    "\n",
    "x = np.zeros((4,1))\n",
    "\n",
    "print(A)\n",
    "print(x)\n",
    "print(b.shape)"
   ]
  },
  {
   "cell_type": "code",
   "execution_count": 2,
   "metadata": {},
   "outputs": [
    {
     "name": "stdout",
     "output_type": "stream",
     "text": [
      "Column:  4\n"
     ]
    }
   ],
   "source": [
    "# OMP\n",
    "i1 = np.argmax(A.T@b)\n",
    "print(\"Column: \", i1+1)"
   ]
  },
  {
   "cell_type": "code",
   "execution_count": 3,
   "metadata": {},
   "outputs": [
    {
     "name": "stdout",
     "output_type": "stream",
     "text": [
      "x:  [[0.        ]\n",
      " [0.        ]\n",
      " [0.        ]\n",
      " [0.71904686]]\n",
      "r1:  [[ 0.72572239]\n",
      " [ 0.10861452]\n",
      " [-0.61392708]]\n"
     ]
    }
   ],
   "source": [
    "# OMP\n",
    "As = A[:,np.newaxis,i1]\n",
    "x[i1] = np.linalg.pinv(As)@b\n",
    "print(\"x: \", x)\n",
    "r1 = b - A@x\n",
    "print(\"r1: \", r1)"
   ]
  },
  {
   "cell_type": "code",
   "execution_count": 6,
   "metadata": {},
   "outputs": [
    {
     "name": "stdout",
     "output_type": "stream",
     "text": [
      "Column:  2\n"
     ]
    }
   ],
   "source": [
    "i2 = np.argmax(A.T@r1)\n",
    "print(\"Column: \", i2+1)"
   ]
  },
  {
   "cell_type": "code",
   "execution_count": 7,
   "metadata": {},
   "outputs": [
    {
     "data": {
      "text/plain": [
       "array([[ 0.6404],\n",
       "       [-0.3121],\n",
       "       [ 0.7018]])"
      ]
     },
     "execution_count": 7,
     "metadata": {},
     "output_type": "execute_result"
    }
   ],
   "source": [
    "As"
   ]
  },
  {
   "cell_type": "code",
   "execution_count": 9,
   "metadata": {},
   "outputs": [
    {
     "name": "stdout",
     "output_type": "stream",
     "text": [
      "x:  [[0.        ]\n",
      " [1.00001139]\n",
      " [0.        ]\n",
      " [1.00998157]]\n",
      "r2:  [[1.65905921e-06]\n",
      " [1.29754484e-05]\n",
      " [4.25644903e-06]]\n"
     ]
    }
   ],
   "source": [
    "As = A[:,(i1, i2)]\n",
    "x[[i1, i2]] = np.linalg.pinv(As)@b\n",
    "print(\"x: \", x)\n",
    "r2 = b - A@x\n",
    "print(\"r2: \", r2)"
   ]
  },
  {
   "cell_type": "code",
   "execution_count": 17,
   "metadata": {},
   "outputs": [
    {
     "name": "stdout",
     "output_type": "stream",
     "text": [
      "0.7162132849999999\n",
      "r1:  [[ 1.14491567]\n",
      " [-0.25662567]\n",
      " [ 0.06415324]]\n",
      "r1:  1.1750762854736803\n",
      "r1:  [[ 0.80529522]\n",
      " [-0.25660907]\n",
      " [ 0.46841265]]\n",
      "r1:  0.9663120678925446\n",
      "r1:  [[ 1.15496305]\n",
      " [-0.09111315]\n",
      " [ 0.14860708]]\n",
      "r1:  1.1680433718130576\n",
      "r1:  [[ 0.72572239]\n",
      " [ 0.10861452]\n",
      " [-0.61392708]]\n",
      "r1:  0.9567531400438528\n"
     ]
    }
   ],
   "source": [
    "# LS-OMP\n",
    "for i in range(4):\n",
    "    x = np.zeros((4,1))\n",
    "    As = A[:,np.newaxis,i]\n",
    "    x[i] = np.linalg.pinv(As)@b\n",
    "#     print(\"x: \", x)\n",
    "    r1 = b - A@x\n",
    "    print(\"r1: \", r1)\n",
    "    print(\"r1: \", np.sqrt(np.sum(r1**2)))"
   ]
  },
  {
   "cell_type": "code",
   "execution_count": 26,
   "metadata": {},
   "outputs": [
    {
     "name": "stdout",
     "output_type": "stream",
     "text": [
      "0.7162132849999999\n",
      "Column:  2\n",
      "a_i:  [ 0.5394  0.1994 -0.8181]\n"
     ]
    }
   ],
   "source": [
    "# WMP\n",
    "t = 0.5\n",
    "print(t * np.sum(b**2))\n",
    "for i in range(4):\n",
    "    if np.abs(A[:,i].T@b) >= t * np.sqrt(np.sum(b**2)):\n",
    "        break\n",
    "print(\"Column: \", i + 1)\n",
    "print(\"a_i: \", A[:,i])"
   ]
  },
  {
   "cell_type": "code",
   "execution_count": 36,
   "metadata": {},
   "outputs": [
    {
     "data": {
      "text/plain": [
       "array([[3],\n",
       "       [1],\n",
       "       [2],\n",
       "       [0]])"
      ]
     },
     "execution_count": 36,
     "metadata": {},
     "output_type": "execute_result"
    }
   ],
   "source": [
    "np.argsort(-np.abs(A.T@b), axis=0)"
   ]
  }
 ],
 "metadata": {
  "kernelspec": {
   "display_name": "Python 3",
   "language": "python",
   "name": "python3"
  },
  "language_info": {
   "codemirror_mode": {
    "name": "ipython",
    "version": 3
   },
   "file_extension": ".py",
   "mimetype": "text/x-python",
   "name": "python",
   "nbconvert_exporter": "python",
   "pygments_lexer": "ipython3",
   "version": "3.7.1"
  }
 },
 "nbformat": 4,
 "nbformat_minor": 2
}
